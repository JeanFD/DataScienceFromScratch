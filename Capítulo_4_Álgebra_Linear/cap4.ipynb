{
 "cells": [
  {
   "cell_type": "markdown",
   "metadata": {},
   "source": [
    "# Vetores"
   ]
  },
  {
   "cell_type": "code",
   "execution_count": 6,
   "metadata": {},
   "outputs": [],
   "source": [
    "from typing import List"
   ]
  },
  {
   "cell_type": "code",
   "execution_count": 7,
   "metadata": {},
   "outputs": [],
   "source": [
    "Vector = List[float]"
   ]
  },
  {
   "cell_type": "code",
   "execution_count": 8,
   "metadata": {},
   "outputs": [],
   "source": [
    "height_weight_age = [70, # polegadas\n",
    "                     170,# libras\n",
    "                     40] # anos"
   ]
  },
  {
   "cell_type": "code",
   "execution_count": 9,
   "metadata": {},
   "outputs": [],
   "source": [
    "grades = [95,\n",
    "          80,\n",
    "          75,\n",
    "          62]"
   ]
  },
  {
   "cell_type": "code",
   "execution_count": 14,
   "metadata": {},
   "outputs": [],
   "source": [
    "def add(v: Vector, w: Vector) -> Vector:\n",
    "    \"\"\"Soma os elementos correspondentes\"\"\"\n",
    "    assert len(v) == len(w), \"Os vetores precisam ter o mesmo tamanho\"\n",
    "\n",
    "    return [ v_i + w_i for v_i, w_i in zip(v,w)]\n",
    "\n",
    "assert add([1, 2, 3], [4, 5, 6]) == [5, 7, 9]"
   ]
  },
  {
   "cell_type": "code",
   "execution_count": 15,
   "metadata": {},
   "outputs": [],
   "source": [
    "def subtract(v: Vector, w: Vector) -> Vector:\n",
    "    \"\"\"Subtrai os elementos correspondentes\"\"\"\n",
    "    assert len(v) == len(w), \"Os vetores precisam ter o mesmo tamanho\"\n",
    "\n",
    "    return [v_i - w_i for v_i, w_i in zip(v, w)]\n",
    "\n",
    "assert subtract([5, 7, 9], [4, 5, 6]) == [1, 2, 3]"
   ]
  },
  {
   "cell_type": "code",
   "execution_count": 19,
   "metadata": {},
   "outputs": [],
   "source": [
    "def vector_sum(vectors: List[Vector]) -> Vector:\n",
    "    \"\"\"Soma todos os elementos correspondentes\"\"\"\n",
    "    # Verifica se os vetores não estão vazios\n",
    "    assert vectors, \"Nenhum vetor fornecido\"\n",
    "\n",
    "    # Verifique se os vetores são do mesmo tamanho\n",
    "    num_elements = len(vectors[0])\n",
    "    assert all(len(v) == num_elements for v in vectors), \"tamanhos diferentes\"\n",
    "\n",
    "    # o elemento de n° i do resultado é a soma de todo vector[i]\n",
    "    return [sum(vector[i] for vector in vectors) \n",
    "            for i in range(num_elements)]\n",
    "\n",
    "assert vector_sum([[1, 2], [3, 4], [5, 6], [7, 8]]) == [16, 20]"
   ]
  },
  {
   "cell_type": "code",
   "execution_count": 20,
   "metadata": {},
   "outputs": [],
   "source": [
    "def scalar_multiply(c: float, v:Vector) -> Vector:\n",
    "    \"\"\"Multiplica cada elemento por c\"\"\"\n",
    "    return[c * v_i for v_i in v]\n",
    "\n",
    "assert scalar_multiply(2, [1, 2, 3]) == [2, 4, 6]"
   ]
  },
  {
   "cell_type": "code",
   "execution_count": 23,
   "metadata": {},
   "outputs": [],
   "source": [
    "def vector_mean(vectors: List[Vector]) -> Vector:\n",
    "    \"\"\"Computa a média dos elementos\"\"\"\n",
    "    n = len(vectors)\n",
    "    return scalar_multiply(1/n, vector_sum(vectors))\n",
    "\n",
    "assert vector_mean([[1, 2], [3, 4], [5, 6]]) == [3, 4]"
   ]
  },
  {
   "cell_type": "code",
   "execution_count": 25,
   "metadata": {},
   "outputs": [],
   "source": [
    "def dot(v: Vector, w: Vector) -> float:\n",
    "    \"\"\"Produto Escalar, computa v_1 * w_1 + ... + v_i * w_i\"\"\"\n",
    "    assert len(v) == len(w), \"Os vetores tem que ter o mesmo tamanho\"\n",
    "\n",
    "    return sum(v_i * w_i for v_i, w_i in zip(v, w))\n",
    "\n",
    "assert dot([1, 2, 3], [4, 5, 6]) == 32"
   ]
  },
  {
   "cell_type": "code",
   "execution_count": 26,
   "metadata": {},
   "outputs": [],
   "source": [
    "def sum_of_squares(v: Vector) -> float:\n",
    "    \"\"\"Retorna v_1 * v_1 + ... + v_n * v_n\"\"\"\n",
    "    return dot(v, v)\n",
    "\n",
    "assert sum_of_squares([1, 2, 3]) == 14"
   ]
  },
  {
   "cell_type": "code",
   "execution_count": 27,
   "metadata": {},
   "outputs": [],
   "source": [
    "import math\n",
    "\n",
    "def magnitude(v: Vector) -> float:\n",
    "    \"\"\"Retorna a magnitude (ou comprimento) de v\"\"\"\n",
    "    return math.sqrt(sum_of_squares(v))\n",
    "\n",
    "assert magnitude([3, 4]) == 5"
   ]
  },
  {
   "cell_type": "code",
   "execution_count": null,
   "metadata": {},
   "outputs": [],
   "source": [
    "def squared_distance(v: Vector, w: Vector) -> float:\n",
    "    \"\"\"Computa (v_1 - w_1) ** 2 + ... + (v_n - w_n) ** 2\"\"\"\n",
    "    return sum_of_squares(v_i - w_i for v_i, w_i in zip(v, w))\n",
    "\n",
    "def distance(v: Vector, w: Vector) -> float:\n",
    "    \"\"\"Computa a distancia entre v e w\"\"\"\n",
    "    return math.sqrt(squared_distance(v, w))\n",
    "\n",
    "\"\"\"\n",
    "Forma alternativa\n",
    "\n",
    "def distance(v: Vector, w: Vector) -> float:\n",
    "    return magnitude(subtract(v, w))\n",
    "\"\"\""
   ]
  },
  {
   "cell_type": "code",
   "execution_count": 29,
   "metadata": {},
   "outputs": [],
   "source": [
    "Matrix = List[List[float]]"
   ]
  },
  {
   "cell_type": "code",
   "execution_count": 30,
   "metadata": {},
   "outputs": [],
   "source": [
    "A = [[1, 2, 3],\n",
    "     [4, 5, 6]]\n",
    "\n",
    "B = [[1, 2],\n",
    "     [3, 4],\n",
    "     [5, 6]]"
   ]
  },
  {
   "cell_type": "code",
   "execution_count": 31,
   "metadata": {},
   "outputs": [],
   "source": [
    "from typing import Tuple\n",
    "\n",
    "def shape(A: Matrix) -> Tuple[int, int]:\n",
    "    \"\"\"Retorna (n° de linhas de A, n° de colunas de A)\"\"\"\n",
    "    num_rows = len(A)\n",
    "    num_cols = len(A[0]) if A else 0\n",
    "\n",
    "    return num_rows, num_cols\n",
    "\n",
    "assert shape([[1, 2, 3], [4, 5, 6]]) == (2, 3)\n",
    "    "
   ]
  },
  {
   "cell_type": "code",
   "execution_count": 34,
   "metadata": {},
   "outputs": [],
   "source": [
    "def get_row(A:Matrix, i: int) -> Vector:\n",
    "    \"\"\"retorna a linha i de A (como um Vector)\"\"\"\n",
    "    return A[i]\n",
    "\n",
    "def get_column(A:Matrix, j: int) ->Vector:\n",
    "    \"\"\"retorna a coluna de j de A (como um Vector)\"\"\"\n",
    "    return [A_i[j] for A_i in A]"
   ]
  },
  {
   "cell_type": "code",
   "execution_count": 35,
   "metadata": {},
   "outputs": [],
   "source": [
    "from typing import Callable\n",
    "\n",
    "def make_matrix(num_rows: int,\n",
    "                num_cols: int,\n",
    "                entry_fn: Callable[[int, int], float]) -> Matrix:\n",
    "    \"\"\"\n",
    "    Retorna uma matriz num_rows x num_cols\n",
    "    cuja entrada (i,j) é entry_fn(i,j)\n",
    "    \"\"\"\n",
    "    return[[entry_fn(i, j)\n",
    "            for j in range(num_cols)]\n",
    "            for i in range(num_rows)]\n"
   ]
  },
  {
   "cell_type": "code",
   "execution_count": 38,
   "metadata": {},
   "outputs": [],
   "source": [
    "def identity_matriz(n: int) -> Matrix:\n",
    "    \"\"\"Retorna a matriz de identidade n x n\"\"\"\n",
    "    return make_matrix(n, n, lambda i, j: 1 if i == j else 0)\n",
    "\n",
    "assert identity_matriz(4) == [[1,0,0,0],\n",
    "                              [0,1,0,0],\n",
    "                              [0,0,1,0],\n",
    "                              [0,0,0,1]]"
   ]
  },
  {
   "cell_type": "code",
   "execution_count": 39,
   "metadata": {},
   "outputs": [],
   "source": [
    "friendships = [(0, 1), (0, 2), (1, 2), (1, 3), (2, 3), (3, 4),\n",
    "               (4, 5), (5, 6), (5, 7), (6, 8), (7, 8), (8, 9)]\n",
    "\n",
    "#            user 0  1  2  3  4  5  6  7  8  9\n",
    "#\n",
    "friend_matrix = [[0, 1, 1, 0, 0, 0, 0, 0, 0, 0],  # user 0\n",
    "                 [1, 0, 1, 1, 0, 0, 0, 0, 0, 0],  # user 1\n",
    "                 [1, 1, 0, 1, 0, 0, 0, 0, 0, 0],  # user 2\n",
    "                 [0, 1, 1, 0, 1, 0, 0, 0, 0, 0],  # user 3\n",
    "                 [0, 0, 0, 1, 0, 1, 0, 0, 0, 0],  # user 4\n",
    "                 [0, 0, 0, 0, 1, 0, 1, 1, 0, 0],  # user 5\n",
    "                 [0, 0, 0, 0, 0, 1, 0, 0, 1, 0],  # user 6\n",
    "                 [0, 0, 0, 0, 0, 1, 0, 0, 1, 0],  # user 7\n",
    "                 [0, 0, 0, 0, 0, 0, 1, 1, 0, 1],  # user 8\n",
    "                 [0, 0, 0, 0, 0, 0, 0, 0, 1, 0]]  # user 9\n",
    "\n",
    "assert friend_matrix[0][2] == 1, \"0 and 2 are friends\"\n",
    "assert friend_matrix[0][8] == 0, \"0 and 8 are not friends\"\n"
   ]
  },
  {
   "cell_type": "code",
   "execution_count": 40,
   "metadata": {},
   "outputs": [],
   "source": [
    "friends_of_five = [i\n",
    "                   for i, is_friend in enumerate(friend_matrix[5])\n",
    "                   if is_friend]"
   ]
  }
 ],
 "metadata": {
  "kernelspec": {
   "display_name": "base",
   "language": "python",
   "name": "python3"
  },
  "language_info": {
   "codemirror_mode": {
    "name": "ipython",
    "version": 3
   },
   "file_extension": ".py",
   "mimetype": "text/x-python",
   "name": "python",
   "nbconvert_exporter": "python",
   "pygments_lexer": "ipython3",
   "version": "3.12.7"
  }
 },
 "nbformat": 4,
 "nbformat_minor": 2
}
